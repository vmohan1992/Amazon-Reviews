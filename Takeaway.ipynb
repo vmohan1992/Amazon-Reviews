{
 "cells": [
  {
   "cell_type": "code",
   "execution_count": 13,
   "metadata": {},
   "outputs": [],
   "source": [
    "# Import all necessary packages\n",
    "import pandas as pd\n",
    "import numpy as np\n",
    "import gzip"
   ]
  },
  {
   "cell_type": "code",
   "execution_count": 14,
   "metadata": {
    "scrolled": true
   },
   "outputs": [
    {
     "name": "stdout",
     "output_type": "stream",
     "text": [
      "C:\\Users\\vmoha\\documents\\Python Data\\CSV\n"
     ]
    }
   ],
   "source": [
    "# Get the current working directory\n",
    "import os\n",
    "path = os.getcwd()\n",
    "print(path)"
   ]
  },
  {
   "cell_type": "code",
   "execution_count": 15,
   "metadata": {},
   "outputs": [],
   "source": [
    "os.chdir(\"C:\\\\Users\\\\vmoha\\\\documents\\\\Python Data\\\\CSV\")"
   ]
  },
  {
   "cell_type": "code",
   "execution_count": 16,
   "metadata": {
    "scrolled": true
   },
   "outputs": [],
   "source": [
    "#Read the csv files to dataframes.\n",
    "#dfm - metadata for Clothing, Shoes & Jewellery\n",
    "#dfc - reviews for Clothing, Shoes & Jewellery\n",
    "#dfe - reviews for Electronics\n",
    "\n",
    "dfm=pd.read_csv(\"metadata_category_clothing_shoes_and_jewelry_only.csv\",index_col=0)\n",
    "dfc= pd.read_csv(\"reviews_Clothing_Shoes_and_Jewelry_5.csv\",index_col=0)\n",
    "dfe=pd.read_csv(\"reviews_Electronics_5.csv\",index_col=0)\n"
   ]
  },
  {
   "cell_type": "code",
   "execution_count": 17,
   "metadata": {},
   "outputs": [],
   "source": [
    "#The metadata for \"Electronics\" is available in the json format.Code provided via http://jmcauley.ucsd.edu/data/amazon/ defines a function to parse the json file to DataFrame.\n",
    "#dfm2 - Metadata for Electronics\n",
    "\n",
    "def parse_gz(path):\n",
    "    g = gzip.open(path, 'rb')\n",
    "    for l in g:\n",
    "        yield eval(l)\n",
    "\n",
    "\n",
    "def convert_to_DF(path):\n",
    "    i = 0\n",
    "    df = {}\n",
    "    for d in parse_gz(path):\n",
    "        df[i] = d\n",
    "        i += 1\n",
    "    return pd.DataFrame.from_dict(df, orient='index')"
   ]
  },
  {
   "cell_type": "code",
   "execution_count": 18,
   "metadata": {},
   "outputs": [],
   "source": [
    "dfm2 = convert_to_DF('meta_Electronics.json.gz')\n",
    "dfm2.rename(columns={'salesRank': 'salesrank'},inplace=True) "
   ]
  },
  {
   "cell_type": "code",
   "execution_count": 19,
   "metadata": {},
   "outputs": [],
   "source": [
    "# Convert all the columns of the metadata to string type\n",
    "dfm= dfm.astype(str)\n",
    "dfm2= dfm2.astype(str)"
   ]
  },
  {
   "cell_type": "code",
   "execution_count": 20,
   "metadata": {},
   "outputs": [],
   "source": [
    "#Concatenate the metadata for clothing and electronics create one dataframe\n",
    "meta=pd.concat([dfm,dfm2])"
   ]
  },
  {
   "cell_type": "code",
   "execution_count": 21,
   "metadata": {},
   "outputs": [],
   "source": [
    "# Create a field for Category and Sales Rank by splitting the \"Salesrank\" column\n",
    "meta[[\"Category\",\"Sales_Rank\"]] = pd.DataFrame(meta.salesrank.str.split(':',1,expand=True))\n",
    "meta['Category']= meta['Category'].str.replace('{','',regex=True)\n",
    "meta['Category']= meta['Category'].str.replace('}','',regex=True)\n",
    "meta['Category']= meta['Category'].str.replace('\\'','',regex=True)\n",
    "meta['Sales_Rank']= meta['Sales_Rank'].str.replace('}','',regex=True)"
   ]
  },
  {
   "cell_type": "code",
   "execution_count": 22,
   "metadata": {},
   "outputs": [],
   "source": [
    "# Add a column for Reporting Category for dfc and dfe before concatinating to idetify the product category\n",
    "dfc['Reporting_category'] = pd.Series([\"Clothing, Shoes & Jewellery\" for x in range(len(dfc.index))])\n",
    "dfe['Reporting_category'] = pd.Series([\"Electronics\" for x in range(len(dfe.index))])"
   ]
  },
  {
   "cell_type": "code",
   "execution_count": 23,
   "metadata": {},
   "outputs": [],
   "source": [
    "#Concatenate dfc and dfe to create one dataframe\n",
    "df=pd.concat([dfc,dfe])"
   ]
  },
  {
   "cell_type": "code",
   "execution_count": 29,
   "metadata": {},
   "outputs": [],
   "source": [
    "# Split the 'helful' column to extract \"helpful votes\" & \"Total Votes\"\n",
    "df['helpful']= df['helpful'].str.replace('[','',regex=True)\n",
    "df['helpful']= df['helpful'].str.replace(']','',regex=True)\n",
    "df[[\"helpful_votes\",\"total_votes\"]] = pd.DataFrame(df.helpful.str.split(',',1,expand=True))\n",
    "df[\"reviewTime\"] = pd.to_datetime(df[\"reviewTime\"])"
   ]
  },
  {
   "cell_type": "code",
   "execution_count": 32,
   "metadata": {},
   "outputs": [],
   "source": [
    "df.total_votes=df.total_votes.astype(int)"
   ]
  },
  {
   "cell_type": "code",
   "execution_count": 33,
   "metadata": {},
   "outputs": [],
   "source": [
    "df_mean=df.groupby(['asin','reviewTime'])['overall'].mean()"
   ]
  },
  {
   "cell_type": "code",
   "execution_count": 34,
   "metadata": {},
   "outputs": [],
   "source": [
    "# Create a new column \"quality\" to categorize ratings. \n",
    "# \"Positive\" for  4-5 star ratings,\"Neutral\" for 3 star ratings & \"bad\" for < 3 ratings \n",
    "df[\"quality\"]=df.loc[:,\"overall\"].apply(lambda x:\"positive\" if x >= 4 else (\"neutral\" if x==3 else \"bad\"))"
   ]
  },
  {
   "cell_type": "code",
   "execution_count": 35,
   "metadata": {},
   "outputs": [],
   "source": [
    "# Create a new column \"vote range\" to categorize number of votes for the reviews \n",
    "df[\"vote_range\"]=df.loc[:,\"total_votes\"].apply(lambda x:\"0 Votes\" if x == 0 else (\"1-5 Votes\" if x<=5 else( \"5-10 votes\" if  x<=10 else ( \"10-50 Votes\" if x<=50 else( \"50-100 Votes\" if x<=100 else \"Over 100 Votes\")) ) ))"
   ]
  },
  {
   "cell_type": "code",
   "execution_count": 36,
   "metadata": {},
   "outputs": [
    {
     "name": "stdout",
     "output_type": "stream",
     "text": [
      "Percentgae of 5.0 starts : 58.58%\n",
      "Percentgae of 4.0 starts : 20.94%\n",
      "Percentgae of 3.0 starts : 10.92%\n",
      "Percentgae of 2.0 starts : 5.55%\n",
      "Percentgae of 1.0 starts : 4.02%\n"
     ]
    }
   ],
   "source": [
    "for i, each in enumerate(dfc.overall.value_counts()):\n",
    "    print(f\"Percentgae of {dfc.overall.value_counts().index[i]} starts : {(each*100/len(dfc.overall)):.2f}%\")"
   ]
  },
  {
   "cell_type": "code",
   "execution_count": 37,
   "metadata": {},
   "outputs": [
    {
     "name": "stdout",
     "output_type": "stream",
     "text": [
      "Percentgae of 5.0 starts : 59.73%\n",
      "Percentgae of 4.0 starts : 20.54%\n",
      "Percentgae of 3.0 starts : 8.42%\n",
      "Percentgae of 1.0 starts : 6.44%\n",
      "Percentgae of 2.0 starts : 4.86%\n"
     ]
    }
   ],
   "source": [
    "for i, each in enumerate(dfe.overall.value_counts()):\n",
    "    print(f\"Percentgae of {dfe.overall.value_counts().index[i]} starts : {(each*100/len(dfe.overall)):.2f}%\")"
   ]
  },
  {
   "cell_type": "code",
   "execution_count": 38,
   "metadata": {},
   "outputs": [
    {
     "data": {
      "text/html": [
       "<div>\n",
       "<style scoped>\n",
       "    .dataframe tbody tr th:only-of-type {\n",
       "        vertical-align: middle;\n",
       "    }\n",
       "\n",
       "    .dataframe tbody tr th {\n",
       "        vertical-align: top;\n",
       "    }\n",
       "\n",
       "    .dataframe thead th {\n",
       "        text-align: right;\n",
       "    }\n",
       "</style>\n",
       "<table border=\"1\" class=\"dataframe\">\n",
       "  <thead>\n",
       "    <tr style=\"text-align: right;\">\n",
       "      <th></th>\n",
       "      <th>asin</th>\n",
       "      <th>salesrank</th>\n",
       "      <th>imurl</th>\n",
       "      <th>categories</th>\n",
       "      <th>title</th>\n",
       "      <th>description</th>\n",
       "      <th>price</th>\n",
       "      <th>related</th>\n",
       "      <th>brand</th>\n",
       "      <th>imUrl</th>\n",
       "      <th>Category</th>\n",
       "      <th>Sales_Rank</th>\n",
       "    </tr>\n",
       "  </thead>\n",
       "  <tbody>\n",
       "    <tr>\n",
       "      <th>2005401</th>\n",
       "      <td>B00004SR8Z</td>\n",
       "      <td>{'Clothing': 1631}</td>\n",
       "      <td>http://ecx.images-amazon.com/images/I/41RfWLMD...</td>\n",
       "      <td>[['Clothing, Shoes &amp; Jewelry', 'Luggage &amp; Trav...</td>\n",
       "      <td>Lewis N. Clark Deluxe Neck Stash</td>\n",
       "      <td>nan</td>\n",
       "      <td>12.8</td>\n",
       "      <td>{'also_bought': ['B004RJWFDU', 'B00920ZC3O', '...</td>\n",
       "      <td>Lewis N. Clark</td>\n",
       "      <td>NaN</td>\n",
       "      <td>Clothing</td>\n",
       "      <td>1631</td>\n",
       "    </tr>\n",
       "    <tr>\n",
       "      <th>2217897</th>\n",
       "      <td>B0000ZE74A</td>\n",
       "      <td>{'Clothing': 4742}</td>\n",
       "      <td>http://ecx.images-amazon.com/images/I/41ryA-RO...</td>\n",
       "      <td>[['Clothing, Shoes &amp; Jewelry', 'Women', 'Cloth...</td>\n",
       "      <td>Vanity Fair Women's Lollipop Plus Size Cuff Le...</td>\n",
       "      <td>nan</td>\n",
       "      <td>nan</td>\n",
       "      <td>{'also_bought': ['B004PEHJ6U', 'B0000TF5VK', '...</td>\n",
       "      <td>nan</td>\n",
       "      <td>NaN</td>\n",
       "      <td>Clothing</td>\n",
       "      <td>4742</td>\n",
       "    </tr>\n",
       "    <tr>\n",
       "      <th>2220611</th>\n",
       "      <td>B00012O12A</td>\n",
       "      <td>{'Clothing': 4}</td>\n",
       "      <td>http://ecx.images-amazon.com/images/I/41Dd7rCH...</td>\n",
       "      <td>[['Clothing, Shoes &amp; Jewelry', 'Men', 'Clothin...</td>\n",
       "      <td>Levi's Men's 505 Regular-Fit Jean</td>\n",
       "      <td>nan</td>\n",
       "      <td>nan</td>\n",
       "      <td>{'also_bought': ['B0018OR118', 'B003M2X1VI', '...</td>\n",
       "      <td>nan</td>\n",
       "      <td>NaN</td>\n",
       "      <td>Clothing</td>\n",
       "      <td>4</td>\n",
       "    </tr>\n",
       "    <tr>\n",
       "      <th>2324985</th>\n",
       "      <td>B0002XSXWC</td>\n",
       "      <td>{'Clothing': 300}</td>\n",
       "      <td>http://ecx.images-amazon.com/images/I/41-HS7D7...</td>\n",
       "      <td>[['Sports &amp; Outdoors', 'Clothing', 'Men', 'Shi...</td>\n",
       "      <td>Columbia Men's Bonehead Short Sleeve Fishing S...</td>\n",
       "      <td>nan</td>\n",
       "      <td>nan</td>\n",
       "      <td>{'also_bought': ['B0031RFWMU', 'B0050VLSLO', '...</td>\n",
       "      <td>nan</td>\n",
       "      <td>NaN</td>\n",
       "      <td>Clothing</td>\n",
       "      <td>300</td>\n",
       "    </tr>\n",
       "    <tr>\n",
       "      <th>2348742</th>\n",
       "      <td>B00066TWMU</td>\n",
       "      <td>{'Clothing': 1199}</td>\n",
       "      <td>http://ecx.images-amazon.com/images/I/51UNLUB4...</td>\n",
       "      <td>[['Clothing, Shoes &amp; Jewelry', 'ASICS'], ['Clo...</td>\n",
       "      <td>ASICS Mesh Backpack</td>\n",
       "      <td>nan</td>\n",
       "      <td>12.41</td>\n",
       "      <td>{'also_bought': ['B009DB3RS4', 'B001PFA35G', '...</td>\n",
       "      <td>ASICS</td>\n",
       "      <td>NaN</td>\n",
       "      <td>Clothing</td>\n",
       "      <td>1199</td>\n",
       "    </tr>\n",
       "  </tbody>\n",
       "</table>\n",
       "</div>"
      ],
      "text/plain": [
       "               asin           salesrank  \\\n",
       "2005401  B00004SR8Z  {'Clothing': 1631}   \n",
       "2217897  B0000ZE74A  {'Clothing': 4742}   \n",
       "2220611  B00012O12A     {'Clothing': 4}   \n",
       "2324985  B0002XSXWC   {'Clothing': 300}   \n",
       "2348742  B00066TWMU  {'Clothing': 1199}   \n",
       "\n",
       "                                                     imurl  \\\n",
       "2005401  http://ecx.images-amazon.com/images/I/41RfWLMD...   \n",
       "2217897  http://ecx.images-amazon.com/images/I/41ryA-RO...   \n",
       "2220611  http://ecx.images-amazon.com/images/I/41Dd7rCH...   \n",
       "2324985  http://ecx.images-amazon.com/images/I/41-HS7D7...   \n",
       "2348742  http://ecx.images-amazon.com/images/I/51UNLUB4...   \n",
       "\n",
       "                                                categories  \\\n",
       "2005401  [['Clothing, Shoes & Jewelry', 'Luggage & Trav...   \n",
       "2217897  [['Clothing, Shoes & Jewelry', 'Women', 'Cloth...   \n",
       "2220611  [['Clothing, Shoes & Jewelry', 'Men', 'Clothin...   \n",
       "2324985  [['Sports & Outdoors', 'Clothing', 'Men', 'Shi...   \n",
       "2348742  [['Clothing, Shoes & Jewelry', 'ASICS'], ['Clo...   \n",
       "\n",
       "                                                     title description  price  \\\n",
       "2005401                   Lewis N. Clark Deluxe Neck Stash         nan   12.8   \n",
       "2217897  Vanity Fair Women's Lollipop Plus Size Cuff Le...         nan    nan   \n",
       "2220611                  Levi's Men's 505 Regular-Fit Jean         nan    nan   \n",
       "2324985  Columbia Men's Bonehead Short Sleeve Fishing S...         nan    nan   \n",
       "2348742                                ASICS Mesh Backpack         nan  12.41   \n",
       "\n",
       "                                                   related           brand  \\\n",
       "2005401  {'also_bought': ['B004RJWFDU', 'B00920ZC3O', '...  Lewis N. Clark   \n",
       "2217897  {'also_bought': ['B004PEHJ6U', 'B0000TF5VK', '...             nan   \n",
       "2220611  {'also_bought': ['B0018OR118', 'B003M2X1VI', '...             nan   \n",
       "2324985  {'also_bought': ['B0031RFWMU', 'B0050VLSLO', '...             nan   \n",
       "2348742  {'also_bought': ['B009DB3RS4', 'B001PFA35G', '...           ASICS   \n",
       "\n",
       "        imUrl  Category Sales_Rank  \n",
       "2005401   NaN  Clothing       1631  \n",
       "2217897   NaN  Clothing       4742  \n",
       "2220611   NaN  Clothing          4  \n",
       "2324985   NaN  Clothing        300  \n",
       "2348742   NaN  Clothing       1199  "
      ]
     },
     "execution_count": 38,
     "metadata": {},
     "output_type": "execute_result"
    }
   ],
   "source": [
    "meta.head()"
   ]
  },
  {
   "cell_type": "code",
   "execution_count": 39,
   "metadata": {},
   "outputs": [
    {
     "data": {
      "text/html": [
       "<div>\n",
       "<style scoped>\n",
       "    .dataframe tbody tr th:only-of-type {\n",
       "        vertical-align: middle;\n",
       "    }\n",
       "\n",
       "    .dataframe tbody tr th {\n",
       "        vertical-align: top;\n",
       "    }\n",
       "\n",
       "    .dataframe thead th {\n",
       "        text-align: right;\n",
       "    }\n",
       "</style>\n",
       "<table border=\"1\" class=\"dataframe\">\n",
       "  <thead>\n",
       "    <tr style=\"text-align: right;\">\n",
       "      <th></th>\n",
       "      <th>reviewerID</th>\n",
       "      <th>asin</th>\n",
       "      <th>reviewerName</th>\n",
       "      <th>helpful</th>\n",
       "      <th>reviewText</th>\n",
       "      <th>overall</th>\n",
       "      <th>summary</th>\n",
       "      <th>unixReviewTime</th>\n",
       "      <th>reviewTime</th>\n",
       "      <th>Reporting_category</th>\n",
       "      <th>helpful_votes</th>\n",
       "      <th>total_votes</th>\n",
       "      <th>quality</th>\n",
       "      <th>vote_range</th>\n",
       "    </tr>\n",
       "  </thead>\n",
       "  <tbody>\n",
       "    <tr>\n",
       "      <th>0</th>\n",
       "      <td>A1KLRMWW2FWPL4</td>\n",
       "      <td>0000031887</td>\n",
       "      <td>Amazon Customer \"cameramom\"</td>\n",
       "      <td>0, 0</td>\n",
       "      <td>This is a great tutu and at a really great pri...</td>\n",
       "      <td>5.0</td>\n",
       "      <td>Great tutu-  not cheaply made</td>\n",
       "      <td>1297468800</td>\n",
       "      <td>2011-02-12</td>\n",
       "      <td>Clothing, Shoes &amp; Jewellery</td>\n",
       "      <td>0</td>\n",
       "      <td>0</td>\n",
       "      <td>positive</td>\n",
       "      <td>0 Votes</td>\n",
       "    </tr>\n",
       "    <tr>\n",
       "      <th>1</th>\n",
       "      <td>A2G5TCU2WDFZ65</td>\n",
       "      <td>0000031887</td>\n",
       "      <td>Amazon Customer</td>\n",
       "      <td>0, 0</td>\n",
       "      <td>I bought this for my 4 yr old daughter for dan...</td>\n",
       "      <td>5.0</td>\n",
       "      <td>Very Cute!!</td>\n",
       "      <td>1358553600</td>\n",
       "      <td>2013-01-19</td>\n",
       "      <td>Clothing, Shoes &amp; Jewellery</td>\n",
       "      <td>0</td>\n",
       "      <td>0</td>\n",
       "      <td>positive</td>\n",
       "      <td>0 Votes</td>\n",
       "    </tr>\n",
       "    <tr>\n",
       "      <th>2</th>\n",
       "      <td>A1RLQXYNCMWRWN</td>\n",
       "      <td>0000031887</td>\n",
       "      <td>Carola</td>\n",
       "      <td>0, 0</td>\n",
       "      <td>What can I say... my daughters have it in oran...</td>\n",
       "      <td>5.0</td>\n",
       "      <td>I have buy more than one</td>\n",
       "      <td>1357257600</td>\n",
       "      <td>2013-01-04</td>\n",
       "      <td>Clothing, Shoes &amp; Jewellery</td>\n",
       "      <td>0</td>\n",
       "      <td>0</td>\n",
       "      <td>positive</td>\n",
       "      <td>0 Votes</td>\n",
       "    </tr>\n",
       "    <tr>\n",
       "      <th>3</th>\n",
       "      <td>A8U3FAMSJVHS5</td>\n",
       "      <td>0000031887</td>\n",
       "      <td>Caromcg</td>\n",
       "      <td>0, 0</td>\n",
       "      <td>We bought several tutus at once, and they are ...</td>\n",
       "      <td>5.0</td>\n",
       "      <td>Adorable, Sturdy</td>\n",
       "      <td>1398556800</td>\n",
       "      <td>2014-04-27</td>\n",
       "      <td>Clothing, Shoes &amp; Jewellery</td>\n",
       "      <td>0</td>\n",
       "      <td>0</td>\n",
       "      <td>positive</td>\n",
       "      <td>0 Votes</td>\n",
       "    </tr>\n",
       "    <tr>\n",
       "      <th>4</th>\n",
       "      <td>A3GEOILWLK86XM</td>\n",
       "      <td>0000031887</td>\n",
       "      <td>CJ</td>\n",
       "      <td>0, 0</td>\n",
       "      <td>Thank you Halo Heaven great product for Little...</td>\n",
       "      <td>5.0</td>\n",
       "      <td>Grammy's Angels Love it</td>\n",
       "      <td>1394841600</td>\n",
       "      <td>2014-03-15</td>\n",
       "      <td>Clothing, Shoes &amp; Jewellery</td>\n",
       "      <td>0</td>\n",
       "      <td>0</td>\n",
       "      <td>positive</td>\n",
       "      <td>0 Votes</td>\n",
       "    </tr>\n",
       "  </tbody>\n",
       "</table>\n",
       "</div>"
      ],
      "text/plain": [
       "       reviewerID        asin                 reviewerName helpful  \\\n",
       "0  A1KLRMWW2FWPL4  0000031887  Amazon Customer \"cameramom\"    0, 0   \n",
       "1  A2G5TCU2WDFZ65  0000031887              Amazon Customer    0, 0   \n",
       "2  A1RLQXYNCMWRWN  0000031887                       Carola    0, 0   \n",
       "3   A8U3FAMSJVHS5  0000031887                      Caromcg    0, 0   \n",
       "4  A3GEOILWLK86XM  0000031887                           CJ    0, 0   \n",
       "\n",
       "                                          reviewText  overall  \\\n",
       "0  This is a great tutu and at a really great pri...      5.0   \n",
       "1  I bought this for my 4 yr old daughter for dan...      5.0   \n",
       "2  What can I say... my daughters have it in oran...      5.0   \n",
       "3  We bought several tutus at once, and they are ...      5.0   \n",
       "4  Thank you Halo Heaven great product for Little...      5.0   \n",
       "\n",
       "                         summary  unixReviewTime reviewTime  \\\n",
       "0  Great tutu-  not cheaply made      1297468800 2011-02-12   \n",
       "1                    Very Cute!!      1358553600 2013-01-19   \n",
       "2       I have buy more than one      1357257600 2013-01-04   \n",
       "3               Adorable, Sturdy      1398556800 2014-04-27   \n",
       "4        Grammy's Angels Love it      1394841600 2014-03-15   \n",
       "\n",
       "            Reporting_category helpful_votes  total_votes   quality vote_range  \n",
       "0  Clothing, Shoes & Jewellery             0            0  positive    0 Votes  \n",
       "1  Clothing, Shoes & Jewellery             0            0  positive    0 Votes  \n",
       "2  Clothing, Shoes & Jewellery             0            0  positive    0 Votes  \n",
       "3  Clothing, Shoes & Jewellery             0            0  positive    0 Votes  \n",
       "4  Clothing, Shoes & Jewellery             0            0  positive    0 Votes  "
      ]
     },
     "execution_count": 39,
     "metadata": {},
     "output_type": "execute_result"
    }
   ],
   "source": [
    "df.head()"
   ]
  },
  {
   "cell_type": "code",
   "execution_count": 143,
   "metadata": {},
   "outputs": [],
   "source": [
    "# Write metadata and reviews into a csv for subsequent analysis in Tableau\n",
    "meta.to_csv(r'C:\\\\Users\\\\vmoha\\\\documents\\\\Python Data\\\\CSV\\\\metadata.csv', index = False)\n",
    "df.to_csv(r'C:\\\\Users\\\\vmoha\\\\documents\\\\Python Data\\\\CSV\\\\total_reviews.csv', index = False)"
   ]
  }
 ],
 "metadata": {
  "kernelspec": {
   "display_name": "Python 3",
   "language": "python",
   "name": "python3"
  },
  "language_info": {
   "codemirror_mode": {
    "name": "ipython",
    "version": 3
   },
   "file_extension": ".py",
   "mimetype": "text/x-python",
   "name": "python",
   "nbconvert_exporter": "python",
   "pygments_lexer": "ipython3",
   "version": "3.7.6"
  }
 },
 "nbformat": 4,
 "nbformat_minor": 4
}
